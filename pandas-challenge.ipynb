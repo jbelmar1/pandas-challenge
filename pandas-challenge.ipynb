{
 "cells": [
  {
   "cell_type": "markdown",
   "id": "819650ea-d5b6-449f-8fea-08b812e194fa",
   "metadata": {},
   "source": [
    "# PyCity Schools Analysis"
   ]
  },
  {
   "cell_type": "code",
   "execution_count": null,
   "id": "6ad3ce56-2a73-48ad-ab5e-df9250a1b53d",
   "metadata": {},
   "outputs": [],
   "source": [
    "# Dependencies and Setup\n",
    "import pandas as pd\n",
    "from pathlib import Path\n",
    "\n",
    "# File to Load (Remember to Change These)\n",
    "school_data_to_load = Path(r\"C:\\Users\\jobel\\OneDrive\\Documents\\UM\\Challenges\\PyCitySchools\\Resources\\students_complete.csv\")\n",
    "student_data_to_load = Path(r\"C:\\Users\\jobel\\OneDrive\\Documents\\UM\\Challenges\\PyCitySchools\\Resources\\schools_complete.csv\")\n",
    "\n",
    "# Read School and Student Data File and store into Pandas DataFrames\n",
    "school_data = pd.read_csv(school_data_to_load)\n",
    "student_data = pd.read_csv(student_data_to_load)\n",
    "\n",
    "# Combine the data into a single dataset.\n",
    "school_data_complete = pd.merge(student_data, school_data, how=\"left\", on=[\"school_name\", \"school_name\"])\n",
    "school_data_complete.head()"
   ]
  },
  {
   "cell_type": "markdown",
   "id": "cdba493d-c628-448b-b4e0-07eeaaba7a98",
   "metadata": {},
   "source": [
    "# District Summary\n",
    "\n",
    "#### Perform the necessary calculations and then create a high-level snapshot of the district's key metrics in a DataFrame.\n",
    "\n",
    "Include the following:\n",
    "\n",
    "Total number of unique schools\n",
    "\n",
    "Total students\n",
    "\n",
    "Total budget\n",
    "\n",
    "Average math score\n",
    "\n",
    "Average reading score\n",
    "\n",
    "% passing math (the percentage of students who passed math)\n",
    "\n",
    "% passing reading (the percentage of students who passed reading)\n",
    "\n",
    "% overall passing (the percentage of students who passed math AND reading)"
   ]
  },
  {
   "cell_type": "code",
   "execution_count": null,
   "id": "1cbdd09c-6e41-4473-83bd-a490b226b09a",
   "metadata": {},
   "outputs": [],
   "source": [
    "# Calculate the total number of unique schools\n",
    "school_count = len(school_data_complete[\"school_name\"].unique())\n",
    "print(school_count)"
   ]
  },
  {
   "cell_type": "code",
   "execution_count": null,
   "id": "9fd70549-7d2c-4a4f-b18c-b79f312d3b23",
   "metadata": {},
   "outputs": [],
   "source": [
    "# Calculate the total number of students\n",
    "student_count = school_data_complete[\"Student ID\"].count()\n",
    "print(student_count)\n"
   ]
  },
  {
   "cell_type": "code",
   "execution_count": null,
   "id": "7b5d5ed3-9edd-4045-a026-a7b1764759b3",
   "metadata": {},
   "outputs": [],
   "source": [
    "# Calculate the total budget\n",
    "total_budget = school_data[\"budget\"].sum()\n",
    "print(total_budget)"
   ]
  },
  {
   "cell_type": "code",
   "execution_count": null,
   "id": "7fb776c5-aeff-4fc9-92a0-00cd7799d50e",
   "metadata": {},
   "outputs": [],
   "source": [
    "# Calculate the average (mean) math score\n",
    "average_math_score = school_data_complete[\"math_score\"].mean() \n",
    "print(average_math_score)"
   ]
  },
  {
   "cell_type": "code",
   "execution_count": null,
   "id": "06bd3551-db6d-4c2d-a00f-df61b5fe1518",
   "metadata": {},
   "outputs": [],
   "source": [
    "# Calculate the average (mean) reading score\n",
    "average_reading_score = school_data_complete[\"reading_score\"].mean() \n",
    "print(average_reading_score)"
   ]
  },
  {
   "cell_type": "code",
   "execution_count": null,
   "id": "366200b4-09e7-4440-aabc-81b4fadbe076",
   "metadata": {},
   "outputs": [],
   "source": [
    "# Use the following to calculate the percentage of students who passed math (math scores greather than or equal to 70)\n",
    "passing_math_count = school_data_complete.loc[(school_data_complete[\"math_score\"] >= 70)].count()[\"Student ID\"]\n",
    "passing_math_percentage = passing_math_count / float(student_count) * 100\n",
    "print(passing_math_percentage)"
   ]
  },
  {
   "cell_type": "code",
   "execution_count": null,
   "id": "c767c50d-debd-436e-872d-d30491a3dc48",
   "metadata": {},
   "outputs": [],
   "source": [
    "# Calculate the percentage of students who passed reading (hint: look at how the math percentage was calculated)\n",
    "passing_reading_count = school_data_complete.loc[(school_data_complete[\"reading_score\"] >= 70)].count()[\"Student ID\"]\n",
    "passing_reading_percentage = passing_reading_count / float(student_count) * 100\n",
    "print(passing_reading_percentage)"
   ]
  },
  {
   "cell_type": "code",
   "execution_count": null,
   "id": "db76b538-07f9-4fc5-b5ad-6142775ee478",
   "metadata": {},
   "outputs": [],
   "source": [
    "# Use the following to calculate the percentage of students that passed math and reading\n",
    "passing_math_reading_count = school_data_complete.loc[\n",
    "    (school_data_complete[\"math_score\"] >= 70) & (school_data_complete[\"reading_score\"] >= 70)\n",
    "].count()[\"student_name\"]\n",
    "overall_passing_rate = passing_math_reading_count /  float(student_count) * 100\n",
    "print(overall_passing_rate)\n"
   ]
  },
  {
   "cell_type": "code",
   "execution_count": null,
   "id": "edc41349-e48e-490c-a042-a51840a3713a",
   "metadata": {},
   "outputs": [],
   "source": [
    "# Create a high-level snapshot of the district's key metrics in a DataFrame\n",
    "district_summary = pd.DataFrame({\"Total Schools\": [school_count], \"Total Students\": [student_count], \"Total Budget\":[total_budget], \"Average Math Score\":[average_math_score], \"Average Reading Score\":[average_reading_score], \"% Passing Math\": [passing_math_percentage], \"% Passing Reading\": [passing_reading_percentage], \"% Overall Passing\": [overall_passing_rate]})\n",
    "\n",
    "# Formatting\n",
    "district_summary[\"Total Students\"] = district_summary[\"Total Students\"].map(\"{:,}\".format)\n",
    "district_summary[\"Total Budget\"] = district_summary[\"Total Budget\"].map(\"${:,.2f}\".format)\n",
    "\n",
    "# Display the DataFrame\n",
    "district_summary"
   ]
  },
  {
   "cell_type": "markdown",
   "id": "bdb7e0da-0be5-4904-aa84-8ecf874a193e",
   "metadata": {},
   "source": [
    "# School Summary\n",
    "\n",
    "#### Perform the necessary calculations and then create a DataFrame that summarizes key metrics about each school.\n",
    "\n",
    "Include the following:\n",
    "\n",
    "School name\n",
    "\n",
    "School type\n",
    "\n",
    "Total students\n",
    "\n",
    "Total school budget\n",
    "\n",
    "Per student budget\n",
    "\n",
    "Average math score\n",
    "\n",
    "Average reading score\n",
    "\n",
    "% passing math (the percentage of students who passed math)\n",
    "\n",
    "% passing reading (the percentage of students who passed reading)\n",
    "\n",
    "% overall passing (the percentage of students who passed math AND reading)\n"
   ]
  },
  {
   "cell_type": "code",
   "execution_count": null,
   "id": "620a03fc-550b-419c-905e-7be74366f57f",
   "metadata": {},
   "outputs": [],
   "source": [
    "# Use the code provided to select the type per school from school_data\n",
    "school_types = school_data.set_index([\"school_name\"])[\"type\"]"
   ]
  },
  {
   "cell_type": "code",
   "execution_count": null,
   "id": "c5ca22b3-41a8-459d-bc6d-b9bf112556a3",
   "metadata": {},
   "outputs": [],
   "source": [
    "# Calculate the total student count per school from school_data\n",
    "per_school_counts = school_data_complete[\"school_name\"].value_counts()\n"
   ]
  },
  {
   "cell_type": "code",
   "execution_count": null,
   "id": "4cd27d1f-c3ab-4135-ab87-667ec4ab5bea",
   "metadata": {},
   "outputs": [],
   "source": [
    "# Calculate the total school budget and per capita spending per school from school_data\n",
    "per_school_budget = school_data_complete.groupby([\"school_name\"])[\"budget\"].mean()\n",
    "per_school_capita = per_school_budget / per_school_counts"
   ]
  },
  {
   "cell_type": "code",
   "execution_count": null,
   "id": "6069e9da-6c1c-45f8-acc9-a44c0e1a4e36",
   "metadata": {},
   "outputs": [],
   "source": [
    "# Calculate the average test scores per school from school_data_complete\n",
    "per_school_math = school_data_complete.groupby([\"school_name\"])[\"math_score\"].mean()\n",
    "per_school_reading = school_data_complete.groupby([\"school_name\"])[\"reading_score\"].mean()"
   ]
  },
  {
   "cell_type": "code",
   "execution_count": null,
   "id": "31333995-69af-4ad6-8dbb-b46c5f3ef88e",
   "metadata": {},
   "outputs": [],
   "source": [
    "# Calculate the number of students per school with math scores of 70 or higher from school_data_complete\n",
    "students_passing_math = school_data_complete.loc[school_data_complete[\"math_score\"]>=70]\n",
    "school_students_passing_math = students_passing_math[\"school_name\"].value_counts()"
   ]
  },
  {
   "cell_type": "code",
   "execution_count": null,
   "id": "ac3c06fe-6648-43fd-8685-2fe51a09b1ea",
   "metadata": {},
   "outputs": [],
   "source": [
    "# Calculate the number of students per school with reading scores of 70 or higher from school_data_complete\n",
    "students_passing_reading = school_data_complete.loc[school_data_complete[\"reading_score\"]>=70]\n",
    "school_students_passing_reading = students_passing_reading[\"school_name\"].value_counts()"
   ]
  },
  {
   "cell_type": "code",
   "execution_count": null,
   "id": "0268be68-048b-46ad-9b30-1f6557e5100c",
   "metadata": {},
   "outputs": [],
   "source": [
    "# Use the provided code to calculate the number of students per school that passed both math and reading with scores of 70 or higher\n",
    "students_passing_math_and_reading = school_data_complete[\n",
    "    (school_data_complete[\"reading_score\"] >= 70) & (school_data_complete[\"math_score\"] >= 70)\n",
    "]\n",
    "school_students_passing_math_and_reading = students_passing_math_and_reading.groupby([\"school_name\"]).size()\n"
   ]
  },
  {
   "cell_type": "code",
   "execution_count": null,
   "id": "7c77f2db-c239-4f88-bdbf-0f166bff1b16",
   "metadata": {},
   "outputs": [],
   "source": [
    "# Use the provided code to calculate the passing rates\n",
    "per_school_passing_math = school_students_passing_math / per_school_counts * 100\n",
    "per_school_passing_reading = school_students_passing_reading / per_school_counts * 100\n",
    "overall_passing_rate = school_students_passing_math_and_reading / per_school_counts * 100"
   ]
  },
  {
   "cell_type": "code",
   "execution_count": null,
   "id": "7a0112bf-cbd3-4479-beac-3938a4448c5e",
   "metadata": {},
   "outputs": [],
   "source": [
    "# Create a DataFrame called `per_school_summary` with columns for the calculations above.\n",
    "per_school_summary = pd.DataFrame({\"School Type\": school_types, \"Total Students\": per_school_counts, \"Total School Budget\":per_school_budget, \"Per Student Budget\":per_school_capita, \"Average Math Score\":per_school_math, \"Average Reading Score\":per_school_reading, \"% Passing Math\": per_school_passing_math, \"% Passing Reading\": per_school_passing_reading, \"% Overall Passing\": overall_passing_rate})\n",
    "\n",
    "# Formatting\n",
    "per_school_summary[\"Total School Budget\"] = per_school_summary[\"Total School Budget\"].map(\"${:,.2f}\".format)\n",
    "per_school_summary[\"Per Student Budget\"] = per_school_summary[\"Per Student Budget\"].map(\"${:,.2f}\".format)\n",
    "\n",
    "# Display the DataFrame\n",
    "per_school_summary\n"
   ]
  },
  {
   "cell_type": "markdown",
   "id": "024d0322-f904-451c-a461-42416be8bab0",
   "metadata": {},
   "source": [
    "# Highest-Performing Schools (by % Overall Passing)\n",
    "\n",
    "Sort the schools by % Overall Passing in descending order"
   ]
  },
  {
   "cell_type": "code",
   "execution_count": null,
   "id": "12eaf8d2-166f-4b2c-82fa-41bd7b6a9cbc",
   "metadata": {},
   "outputs": [],
   "source": [
    "# Sort the schools by `% Overall Passing` in descending order and display the top 5 rows.\n",
    "top_schools = per_school_summary.sort_values(by=\"% Overall Passing\", ascending=False)\n",
    "top_schools.head(5)"
   ]
  },
  {
   "cell_type": "markdown",
   "id": "7be32429-b5a8-4e66-a7bb-3ccede43c3c0",
   "metadata": {},
   "source": [
    "# Bottom Performing Schools (By % Overall Passing)\n",
    "\n",
    "Sort the schools by % Overall Passing in ascending order"
   ]
  },
  {
   "cell_type": "code",
   "execution_count": null,
   "id": "d2ed8d3c-89ec-4d7a-9b97-d721b3a18474",
   "metadata": {},
   "outputs": [],
   "source": [
    "# Sort the schools by `% Overall Passing` in ascending order and display the top 5 rows.\n",
    "bottom_schools = per_school_summary.sort_values(by=\"% Overall Passing\", ascending=True)\n",
    "bottom_schools.head(5)"
   ]
  },
  {
   "cell_type": "markdown",
   "id": "c4daa1d5-77cd-4f55-9995-0ab985351eba",
   "metadata": {},
   "source": [
    "# Math Scores by Grade"
   ]
  },
  {
   "cell_type": "code",
   "execution_count": null,
   "id": "fada95cf-47f5-4446-a88e-fd668134c6fb",
   "metadata": {},
   "outputs": [],
   "source": [
    "# Use the code provided to separate the data by grade\n",
    "ninth_graders = school_data_complete[(school_data_complete[\"grade\"] == \"9th\")]\n",
    "tenth_graders = school_data_complete[(school_data_complete[\"grade\"] == \"10th\")]\n",
    "eleventh_graders = school_data_complete[(school_data_complete[\"grade\"] == \"11th\")]\n",
    "twelfth_graders = school_data_complete[(school_data_complete[\"grade\"] == \"12th\")]\n",
    "\n",
    "# Group by `school_name` and take the mean of the `math_score` column for each.\n",
    "ninth_grade_math_scores = ninth_graders.groupby([\"school_name\"])['math_score'].mean()\n",
    "tenth_grader_math_scores = tenth_graders.groupby([\"school_name\"])['math_score'].mean()\n",
    "eleventh_grader_math_scores = eleventh_graders.groupby([\"school_name\"])['math_score'].mean()\n",
    "twelfth_grader_math_scores = twelfth_graders.groupby([\"school_name\"])['math_score'].mean()\n",
    "\n",
    "# Combine each of the scores above into single DataFrame called `math_scores_by_grade`\n",
    "math_scores_by_grade = pd.DataFrame({\"9th\":ninth_grade_math_scores, \"10th\": tenth_grader_math_scores, \"11th\":eleventh_grader_math_scores, \"12th\":twelfth_grader_math_scores})\n",
    "\n",
    "# Minor data wrangling\n",
    "math_scores_by_grade.index.name = None\n",
    "\n",
    "# Display the DataFrame\n",
    "math_scores_by_grade"
   ]
  },
  {
   "cell_type": "markdown",
   "id": "a9a1aacc-aa17-45a3-ac38-3c69208efb69",
   "metadata": {},
   "source": [
    "# Reading Score by Grade"
   ]
  },
  {
   "cell_type": "code",
   "execution_count": null,
   "id": "09bfe5ed-4bc8-4a56-a0b0-ca9b6833bdd9",
   "metadata": {},
   "outputs": [],
   "source": [
    "# Use the code provided to separate the data by grade\n",
    "ninth_graders = school_data_complete[(school_data_complete[\"grade\"] == \"9th\")]\n",
    "tenth_graders = school_data_complete[(school_data_complete[\"grade\"] == \"10th\")]\n",
    "eleventh_graders = school_data_complete[(school_data_complete[\"grade\"] == \"11th\")]\n",
    "twelfth_graders = school_data_complete[(school_data_complete[\"grade\"] == \"12th\")]\n",
    "\n",
    "# Group by `school_name` and take the mean of the the `reading_score` column for each.\n",
    "ninth_grade_reading_scores = ninth_graders.groupby([\"school_name\"])[\"reading_score\"].mean()\n",
    "tenth_grader_reading_scores = tenth_graders.groupby([\"school_name\"])[\"reading_score\"].mean()\n",
    "eleventh_grader_reading_scores = eleventh_graders.groupby([\"school_name\"])[\"reading_score\"].mean()\n",
    "twelfth_grader_reading_scores = twelfth_graders.groupby([\"school_name\"])[\"reading_score\"].mean()\n",
    "\n",
    "# Combine each of the scores above into single DataFrame called `reading_scores_by_grade`\n",
    "reading_scores_by_grade = pd.DataFrame({\"9th\": ninth_grade_reading_scores, \"10th\": tenth_grader_reading_scores, \"11th\": eleventh_grader_reading_scores, \"12th\": twelfth_grader_reading_scores})\n",
    "\n",
    "# Minor data wrangling\n",
    "reading_scores_by_grade = reading_scores_by_grade[[\"9th\", \"10th\", \"11th\", \"12th\"]]\n",
    "reading_scores_by_grade.index.name = None\n",
    "\n",
    "# Display the DataFrame\n",
    "reading_scores_by_grade"
   ]
  },
  {
   "cell_type": "markdown",
   "id": "84fd398c-6e9b-43f0-859a-9e596cdcfd9f",
   "metadata": {},
   "source": [
    "# Scores by School Spending\n",
    "\n",
    "Create a table that breaks down school performance based on average spending ranges (per student).AND reading)"
   ]
  },
  {
   "cell_type": "code",
   "execution_count": null,
   "id": "7260afc3-58aa-442f-8d73-1d8b67eec488",
   "metadata": {},
   "outputs": [],
   "source": [
    "# Establish the bins\n",
    "spending_bins = [0, 585, 630, 645, 680]\n",
    "labels = [\"<$585\", \"$585-630\", \"$630-645\", \"$645-680\"]"
   ]
  },
  {
   "cell_type": "code",
   "execution_count": null,
   "id": "887127c8-f86d-4ee4-92e6-dc20a0a804d9",
   "metadata": {},
   "outputs": [],
   "source": [
    "# Create a copy of the school summary since it has the \"Per Student Budget\"\n",
    "school_spending_df = per_school_summary.copy()"
   ]
  },
  {
   "cell_type": "code",
   "execution_count": null,
   "id": "8a0ea70a-91aa-4694-b970-01c96ff28d97",
   "metadata": {},
   "outputs": [],
   "source": [
    "# Use `pd.cut` to categorize spending based on the bins.\n",
    "school_spending_df[\"Spending Ranges (Per Student)\"] = pd.cut(per_school_capita, bins=spending_bins, labels = labels)\n",
    "\n",
    "school_spending_df"
   ]
  },
  {
   "cell_type": "code",
   "execution_count": null,
   "id": "b7d2420e-8599-4f0d-919e-599b7090fa6c",
   "metadata": {},
   "outputs": [],
   "source": [
    "#  Calculate averages for the desired columns.\n",
    "spending_math_scores = school_spending_df.groupby([\"Spending Ranges (Per Student)\"])[\"Average Math Score\"].mean()\n",
    "spending_reading_scores = school_spending_df.groupby([\"Spending Ranges (Per Student)\"])[\"Average Reading Score\"].mean()\n",
    "spending_passing_math = school_spending_df.groupby([\"Spending Ranges (Per Student)\"])[\"% Passing Math\"].mean()\n",
    "spending_passing_reading = school_spending_df.groupby([\"Spending Ranges (Per Student)\"])[\"% Passing Reading\"].mean()\n",
    "overall_passing_spending = school_spending_df.groupby([\"Spending Ranges (Per Student)\"])[\"% Overall Passing\"].mean()"
   ]
  },
  {
   "cell_type": "code",
   "execution_count": null,
   "id": "fcfd4a93-fc04-45b0-b252-186ec618de35",
   "metadata": {},
   "outputs": [],
   "source": [
    "# Assemble into DataFrame\n",
    "spending_summary = pd.DataFrame({\"Average Math Score\":spending_math_scores, \"Average Reading Score\":spending_reading_scores, \"% Passing Math\":spending_passing_math, \"% Passing Reading\":spending_passing_reading, \"% Overall Passing\":overall_passing_spending})\n",
    "\n",
    "# Display results\n",
    "spending_summary\n"
   ]
  },
  {
   "cell_type": "markdown",
   "id": "18667617-438b-4179-a969-fce9461904e7",
   "metadata": {},
   "source": [
    "# Scores by School Size"
   ]
  },
  {
   "cell_type": "code",
   "execution_count": null,
   "id": "0554420e-3d99-4609-9775-13f545b94479",
   "metadata": {},
   "outputs": [],
   "source": [
    "# Establish the bins.\n",
    "size_bins = [0, 1000, 2000, 5000]\n",
    "labels = [\"Small (<1000)\", \"Medium (1000-2000)\", \"Large (2000-5000)\"]"
   ]
  },
  {
   "cell_type": "code",
   "execution_count": null,
   "id": "f230171c-c4eb-4a50-8e72-6f841ff6ea95",
   "metadata": {},
   "outputs": [],
   "source": [
    "# Categorize the spending based on the bins\n",
    "# Use `pd.cut` on the \"Total Students\" column of the `per_school_summary` DataFrame.\n",
    "\n",
    "per_school_summary[\"School Size\"] = pd.cut(per_school_summary[\"Total Students\"],bins=size_bins,labels=labels)\n",
    "per_school_summary"
   ]
  },
  {
   "cell_type": "code",
   "execution_count": null,
   "id": "31fdb018-1e20-42e0-bbb8-b3e594b512ff",
   "metadata": {},
   "outputs": [],
   "source": [
    "# Calculate averages for the desired columns.\n",
    "size_math_scores = per_school_summary.groupby([\"School Size\"])[\"Average Math Score\"].mean()\n",
    "size_reading_scores = per_school_summary.groupby([\"School Size\"])[\"Average Reading Score\"].mean()\n",
    "size_passing_math = per_school_summary.groupby([\"School Size\"])[\"% Passing Math\"].mean()\n",
    "size_passing_reading = per_school_summary.groupby([\"School Size\"])[\"% Passing Reading\"].mean()\n",
    "size_overall_passing = per_school_summary.groupby([\"School Size\"])[\"% Overall Passing\"].mean()"
   ]
  },
  {
   "cell_type": "code",
   "execution_count": null,
   "id": "78c6e66c-5772-4aee-9362-d10dfa6d2249",
   "metadata": {},
   "outputs": [],
   "source": [
    "# Create a DataFrame called `size_summary` that breaks down school performance based on school size (small, medium, or large).\n",
    "# Use the scores above to create a new DataFrame called `size_summary`\n",
    "size_summary = pd.DataFrame({\"Average Math Score\" : size_math_scores, \"Average Reading Score\": size_reading_scores, \"% Passing Math\": size_passing_math, \"% Passing Reading\": size_passing_reading, \"% Overall Passing Rate\": size_overall_passing})\n",
    "\n",
    "# Display results\n",
    "size_summary"
   ]
  },
  {
   "cell_type": "markdown",
   "id": "c767d373-2e49-4216-bd60-f8bb475c24c0",
   "metadata": {},
   "source": [
    "# Scores by School Type"
   ]
  },
  {
   "cell_type": "code",
   "execution_count": null,
   "id": "c7f37925-1960-41bf-8b92-6bfa581620d0",
   "metadata": {},
   "outputs": [],
   "source": [
    "# Group the per_school_summary DataFrame by \"School Type\" and average the results.\n",
    "average_math_score_by_type = per_school_summary.groupby([\"School Type\"])[\"Average Math Score\"].mean()\n",
    "average_reading_score_by_type = per_school_summary.groupby([\"School Type\"])[\"Average Reading Score\"].mean()\n",
    "average_percent_passing_math_by_type = per_school_summary.groupby([\"School Type\"])[\"% Passing Math\"].mean()\n",
    "average_percent_passing_reading_by_type = per_school_summary.groupby([\"School Type\"])[\"% Passing Reading\"].mean()\n",
    "average_percent_overall_passing_by_type = per_school_summary.groupby([\"School Type\"])[\"% Overall Passing\"].mean()\n"
   ]
  },
  {
   "cell_type": "code",
   "execution_count": null,
   "id": "a971e308-ae4a-4243-9984-f16cd049b309",
   "metadata": {},
   "outputs": [],
   "source": [
    "# Assemble the new data by type into a DataFrame called `type_summary`\n",
    "type_summary = pd.DataFrame({\"Average Math Score\" : average_math_score_by_type, \"Average Reading Score\": average_reading_score_by_type, \"% Passing Math\": average_percent_passing_math_by_type, \"% Passing Reading\": average_percent_passing_reading_by_type, \"% Overall Passing\": average_percent_overall_passing_by_type})\n",
    "\n",
    "# Display results\n",
    "type_summary"
   ]
  },
  {
   "cell_type": "code",
   "execution_count": null,
   "id": "4d983946-2e9a-4960-b33b-b54aee21be8c",
   "metadata": {},
   "outputs": [],
   "source": []
  }
 ],
 "metadata": {
  "kernelspec": {
   "display_name": "Python 3 (ipykernel)",
   "language": "python",
   "name": "python3"
  },
  "language_info": {
   "codemirror_mode": {
    "name": "ipython",
    "version": 3
   },
   "file_extension": ".py",
   "mimetype": "text/x-python",
   "name": "python",
   "nbconvert_exporter": "python",
   "pygments_lexer": "ipython3",
   "version": "3.11.5"
  }
 },
 "nbformat": 4,
 "nbformat_minor": 5
}
